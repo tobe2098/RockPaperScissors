{
 "cells": [
  {
   "cell_type": "code",
   "execution_count": null,
   "metadata": {},
   "outputs": [],
   "source": [
    "#AI decision"
   ]
  },
  {
   "cell_type": "code",
   "execution_count": 3,
   "metadata": {},
   "outputs": [],
   "source": [
    "import random\n",
    "\n",
    "# Function to play a single round of Rock-Paper-Scissors\n",
    "def play_round():\n",
    "    # Get the player's choice\n",
    "    player_choice = input(\"Enter your choice (rock, paper, or scissors): \")\n",
    "    \n",
    "    # Validate the player's choice\n",
    "    while player_choice != \"rock\" and player_choice != \"paper\" and player_choice != \"scissors\":\n",
    "        player_choice = input(\"Invalid choice. Enter your choice (rock, paper, or scissors): \")\n",
    "    \n",
    "    # Generate the computer's choice\n",
    "    computer_choice = random.choice([\"rock\", \"paper\", \"scissors\"])\n",
    "    \n",
    "    # Determine the winner\n",
    "    if player_choice == computer_choice:\n",
    "        print(\"It's a tie!\")\n",
    "    elif player_choice == \"rock\" and computer_choice == \"scissors\":\n",
    "        print(\"You win!\")\n",
    "        return 1\n",
    "    elif player_choice == \"paper\" and computer_choice == \"rock\":\n",
    "        print(\"You win!\")\n",
    "        return 1\n",
    "    elif player_choice == \"scissors\" and computer_choice == \"paper\":\n",
    "        print(\"You win!\")\n",
    "        return 1\n",
    "    else:\n",
    "        print(\"You lose!\")\n",
    "        return 0\n",
    "\n",
    "# Function to play multiple rounds of Rock-Paper-Scissors\n",
    "def play_game():\n",
    "    num_wins = 0\n",
    "    num_losses = 0\n",
    "    while True:\n",
    "        result = play_round()\n",
    "        if result == 1:\n",
    "            num_wins += 1\n",
    "        elif result == 0:\n",
    "            num_losses += 1\n",
    "        \n",
    "        # Check if the player wants to continue playing\n",
    "        play_again = input(\"Do you want to play again? (yes/no) \")\n",
    "        if play_again != \"yes\":\n",
    "            break\n",
    "    \n",
    "    # Print the final score\n",
    "    print(\"Wins:\", num_wins)\n",
    "    print(\"Losses:\", num_losses)\n",
    "\n"
   ]
  },
  {
   "cell_type": "code",
   "execution_count": null,
   "metadata": {},
   "outputs": [],
   "source": [
    "# Start the game\n",
    "play_game()"
   ]
  }
 ],
 "metadata": {
  "kernelspec": {
   "display_name": "Python 3.8.5 ('base')",
   "language": "python",
   "name": "python3"
  },
  "language_info": {
   "codemirror_mode": {
    "name": "ipython",
    "version": 3
   },
   "file_extension": ".py",
   "mimetype": "text/x-python",
   "name": "python",
   "nbconvert_exporter": "python",
   "pygments_lexer": "ipython3",
   "version": "3.8.5"
  },
  "orig_nbformat": 4,
  "vscode": {
   "interpreter": {
    "hash": "ad2bdc8ecc057115af97d19610ffacc2b4e99fae6737bb82f5d7fb13d2f2c186"
   }
  }
 },
 "nbformat": 4,
 "nbformat_minor": 2
}
