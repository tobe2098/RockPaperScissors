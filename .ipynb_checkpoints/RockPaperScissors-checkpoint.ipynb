{
 "cells": [
  {
   "cell_type": "code",
   "execution_count": 1,
   "metadata": {},
   "outputs": [],
   "source": [
    "import random\n",
    "import ipywidgets as widget\n",
    "from IPython.display import display"
   ]
  },
  {
   "cell_type": "code",
   "execution_count": 2,
   "metadata": {},
   "outputs": [],
   "source": [
    "#AI decision, dllu1 from dllu in rpscontest\n",
    "#Metaparameters?\n",
    "numPre = 30\n",
    "numMeta = 6\n",
    "#Variable declaration, globals?\n",
    "limit = 8\n",
    "beat={'R':'P','P':'S','S':'R'}\n",
    "moves=['','','','']\n",
    "pScore=[[5]*numPre,[5]*numPre,[5]*numPre,[5]*numPre,[5]*numPre,[5]*numPre]\n",
    "centrifuge={'RP':0,'PS':1,'SR':2,'PR':3,'SP':4,'RS':5,'RR':6,'PP':7,'SS':8}\n",
    "centripete={'R':0,'P':1,'S':2}\n",
    "soma = [0,0,0,0,0,0,0,0,0];\n",
    "rps = [1,1,1];\n",
    "a=\"RPS\"\n",
    "best = [0,0,0];\n",
    "length=0\n",
    "p=[random.choice(\"RPS\")]*numPre\n",
    "m=[random.choice(\"RPS\")]*numMeta\n",
    "mScore=[5,2,5,2,4,2]\n",
    "\n",
    "def computer_strategy(prev_input, prev_output):\n",
    "    global length\n",
    "    for i in range(numPre):\n",
    "        pp = p[i]\n",
    "        bpp = beat[pp]\n",
    "        bbpp = beat[bpp]\n",
    "        pScore[0][i]=0.9*pScore[0][i]+((prev_input==pp)-(prev_input==bbpp))*3\n",
    "        pScore[1][i]=0.9*pScore[1][i]+((prev_output==pp)-(prev_output==bbpp))*3\n",
    "        pScore[2][i]=0.87*pScore[2][i]+(prev_input==pp)*3.3-(prev_input==bpp)*1.2-(prev_input==bbpp)*2.3\n",
    "        pScore[3][i]=0.87*pScore[3][i]+(prev_output==pp)*3.3-(prev_output==bpp)*1.2-(prev_output==bbpp)*2.3\n",
    "        pScore[4][i]=(pScore[4][i]+(prev_input==pp)*3)*(1-(prev_input==bbpp))\n",
    "        pScore[5][i]=(pScore[5][i]+(prev_output==pp)*3)*(1-(prev_output==bbpp))\n",
    "    for i in range(numMeta):\n",
    "        mScore[i]=0.96*(mScore[i]+(prev_input==m[i])-(prev_input==beat[beat[m[i]]]))\n",
    "    soma[centrifuge[str(prev_input+prev_output)]] +=1;\n",
    "    rps[centripete[prev_input]] +=1;\n",
    "    moves[0]+=str(centrifuge[prev_input+prev_output])\n",
    "    moves[1]+=prev_input\n",
    "    moves[2]+=prev_output\n",
    "    length+=1\n",
    "    for y in range(3):\n",
    "        j=min([length,limit])\n",
    "        while j>=1 and not moves[y][length-j:length] in moves[y][0:length-1]:\n",
    "            j-=1\n",
    "        i = moves[y].rfind(moves[y][length-j:length],0,length-1)\n",
    "        p[0+2*y] = moves[1][j+i] \n",
    "        p[1+2*y] = beat[moves[2][j+i]]\n",
    "    j=min([length,limit])\n",
    "    while j>=2 and not moves[0][length-j:length-1] in moves[0][0:length-2]:\n",
    "        j-=1\n",
    "    i = moves[0].rfind(moves[0][length-j:length-1],0,length-2)\n",
    "    if j+i>=length:\n",
    "        p[6] = p[7] = random.choice(\"RPS\")\n",
    "    else:\n",
    "        p[6] = moves[1][j+i] \n",
    "        p[7] = beat[moves[2][j+i]]\n",
    "        \n",
    "    best[0] = soma[centrifuge[prev_output+'R']]*rps[0]/rps[centripete[prev_output]]\n",
    "    best[1] = soma[centrifuge[prev_output+'P']]*rps[1]/rps[centripete[prev_output]]\n",
    "    best[2] = soma[centrifuge[prev_output+'S']]*rps[2]/rps[centripete[prev_output]]\n",
    "    p[8] = p[9] = a[best.index(max(best))]\n",
    "    \n",
    "    for i in range(10,numPre):\n",
    "        p[i]=beat[beat[p[i-10]]]\n",
    "        \n",
    "    for i in range(0,numMeta,2):\n",
    "        m[i]=       p[pScore[i  ].index(max(pScore[i  ]))]\n",
    "        m[i+1]=beat[p[pScore[i+1].index(max(pScore[i+1]))]]\n",
    "    output = beat[m[mScore.index(max(mScore))]]\n",
    "    if max(mScore)<0.07 or random.randint(3,40)>length:\n",
    "        output=beat[random.choice(\"RPS\")]\n",
    "    return output"
   ]
  },
  {
   "cell_type": "code",
   "execution_count": 10,
   "metadata": {},
   "outputs": [],
   "source": [
    "# Function to play a single round of Rock-Paper-Scissors\n",
    "def play_round(prev_human_input, prev_comp_input):\n",
    "    # Get the player's choice\n",
    "    computer_choice = computer_strategy(prev_human_input, prev_comp_input)\n",
    "    player_choice = input(\"Enter your choice (R, P, or S):\")\n",
    "\n",
    "    # Validate the player's choice\n",
    "    while player_choice != \"R\" and player_choice != \"P\" and player_choice != \"S\" and player_choice != \"\":\n",
    "        player_choice = input(\"Invalid choice. Enter your choice (R, P, or S): \")\n",
    "    if player_choice == \"\":\n",
    "        return 3, player_choice, computer_choice\n",
    "    # Generate the computer's choice\n",
    "\n",
    "    \n",
    "    # Determine the winner\n",
    "    start_string=\"The match is: \"\n",
    "    middle_string=\" vs \"\n",
    "    if player_choice == computer_choice:\n",
    "        print(start_string+player_choice+middle_string+computer_choice+\"\\nIt's a tie!\")\n",
    "        return 2, player_choice, computer_choice\n",
    "    elif player_choice == \"R\" and computer_choice == \"S\":\n",
    "        print(start_string+player_choice+middle_string+computer_choice+\"\\nYou win!\")\n",
    "        return 1, player_choice, computer_choice\n",
    "    elif player_choice == \"P\" and computer_choice == \"R\":\n",
    "        print(start_string+player_choice+middle_string+computer_choice+\"\\nYou win!\")\n",
    "        return 1, player_choice, computer_choice\n",
    "    elif player_choice == \"S\" and computer_choice == \"P\":\n",
    "        print(start_string+player_choice+middle_string+computer_choice+\"\\nYou win!\")\n",
    "        return 1, player_choice, computer_choice\n",
    "    else:\n",
    "        print(start_string+player_choice+middle_string+computer_choice+\"\\nYou lose!\")\n",
    "        return 0, player_choice, computer_choice\n"
   ]
  },
  {
   "cell_type": "code",
   "execution_count": 6,
   "metadata": {},
   "outputs": [],
   "source": [
    "\n",
    "\n",
    "# Function to play multiple rounds of Rock-Paper-Scissors\n",
    "def play_game():\n",
    "    num_wins = 0\n",
    "    num_losses = 0\n",
    "    num_draws = 0\n",
    "    prev_human_input=random.choice(\"RPS\")\n",
    "    prev_comp_input=random.choice(\"RPS\")\n",
    "    while True:\n",
    "        result, prev_human_input, prev_comp_input = play_round(prev_human_input, prev_comp_input)\n",
    "        if result == 1:\n",
    "            num_wins += 1\n",
    "        elif result == 0:\n",
    "            num_losses += 1\n",
    "        elif result == 2:\n",
    "            num_draws +=1\n",
    "        elif result == 3:\n",
    "            break\n",
    "        print(\"Wins:\", num_wins)\n",
    "        print(\"Losses:\", num_losses)\n",
    "        print(\"Draws:\", num_draws)\n",
    "\n"
   ]
  },
  {
   "cell_type": "code",
   "execution_count": 11,
   "metadata": {},
   "outputs": [
    {
     "name": "stdout",
     "output_type": "stream",
     "text": [
      "Enter your choice (R, P, or S):S\n",
      "The match is: S vs. P\n",
      "You win!\n",
      "Wins: 1\n",
      "Losses: 0\n",
      "Draws: 0\n",
      "Enter your choice (R, P, or S):\n"
     ]
    }
   ],
   "source": [
    "# Start the game\n",
    "play_game()"
   ]
  },
  {
   "cell_type": "code",
   "execution_count": null,
   "metadata": {},
   "outputs": [],
   "source": []
  }
 ],
 "metadata": {
  "kernelspec": {
   "display_name": "Python 3",
   "language": "python",
   "name": "python3"
  },
  "language_info": {
   "codemirror_mode": {
    "name": "ipython",
    "version": 3
   },
   "file_extension": ".py",
   "mimetype": "text/x-python",
   "name": "python",
   "nbconvert_exporter": "python",
   "pygments_lexer": "ipython3",
   "version": "3.8.5"
  },
  "tags": "output_scroll",
  "vscode": {
   "interpreter": {
    "hash": "ad2bdc8ecc057115af97d19610ffacc2b4e99fae6737bb82f5d7fb13d2f2c186"
   }
  }
 },
 "nbformat": 4,
 "nbformat_minor": 2
}
